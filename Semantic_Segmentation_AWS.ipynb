{
  "cells": [
    {
      "cell_type": "markdown",
      "metadata": {
        "id": "Co3HPl-9--nl"
      },
      "source": [
        "# Download the Data"
      ]
    },
    {
      "cell_type": "code",
      "execution_count": null,
      "metadata": {
        "id": "lGg4YFnM--nq"
      },
      "outputs": [],
      "source": [
        "!pip3 install tqdm\n",
        "!pip3 install pillow --upgrade"
      ]
    },
    {
      "cell_type": "code",
      "execution_count": null,
      "metadata": {
        "id": "fLTNZFFP--nu"
      },
      "outputs": [],
      "source": [
        "%matplotlib inline\n",
        "\n",
        "import os\n",
        "import io\n",
        "import tarfile\n",
        "import urllib\n",
        "import shutil\n",
        "import json\n",
        "import random\n",
        "import numpy as np\n",
        "import boto3\n",
        "import sagemaker\n",
        "\n",
        "from tqdm import tqdm\n",
        "from sagemaker.amazon.amazon_estimator import get_image_uri\n",
        "from matplotlib import pyplot as plt\n",
        "from xml.etree import ElementTree as ET\n",
        "from PIL import Image, ImageDraw, ImageFont\n",
        "\n",
        "urls = ['http://www.robots.ox.ac.uk/~vgg/data/pets/data/images.tar.gz',\n",
        "        'http://www.robots.ox.ac.uk/~vgg/data/pets/data/annotations.tar.gz']\n",
        "\n",
        "def download_and_extract(data_dir, download_dir):\n",
        "    for url in urls:\n",
        "        target_file = url.split('/')[-1]\n",
        "        if target_file not in os.listdir(download_dir):\n",
        "            print('Downloading', url)\n",
        "            urllib.request.urlretrieve(url, os.path.join(download_dir, target_file))\n",
        "            tf = tarfile.open(url.split('/')[-1])\n",
        "            tf.extractall(data_dir)\n",
        "        else:\n",
        "            print('Already downloaded', url)\n",
        "\n",
        "if not os.path.isdir('data'):\n",
        "    os.mkdir('data')\n",
        "\n",
        "download_and_extract('data', '.')"
      ]
    },
    {
      "cell_type": "markdown",
      "metadata": {
        "id": "Vp7i5E28--nz"
      },
      "source": [
        "# Visualize Data"
      ]
    },
    {
      "cell_type": "code",
      "execution_count": null,
      "metadata": {
        "id": "P7fLd4hm--n1"
      },
      "outputs": [],
      "source": [
        "trimaps_dir = 'data/annotations/trimaps/'\n",
        "\n",
        "maps = [x for x in os.listdir(trimaps_dir) if x[-3:] == 'png']\n",
        "print(len(maps))"
      ]
    },
    {
      "cell_type": "code",
      "execution_count": null,
      "metadata": {
        "id": "Si_oyRkC--n4"
      },
      "outputs": [],
      "source": [
        "image_dir = 'data/images/'\n",
        "\n",
        "images = [x for x in os.listdir(image_dir) if x[-3:] == 'jpg']\n",
        "print(len(images))"
      ]
    },
    {
      "cell_type": "code",
      "execution_count": null,
      "metadata": {
        "id": "IJBTaQX_--n6"
      },
      "outputs": [],
      "source": [
        "images[0]"
      ]
    },
    {
      "cell_type": "code",
      "execution_count": null,
      "metadata": {
        "id": "0rMrF-9L--n8"
      },
      "outputs": [],
      "source": [
        "plt.figure(figsize=(12, 12))\n",
        "\n",
        "for i in range(0, 4):\n",
        "    index = random.randint(0, len(images) - 1)\n",
        "    image_name = images[index]\n",
        "    map_name = images[index].split('.')[0] + '.png'\n",
        "\n",
        "    plt.subplot(4, 2, 1 + i*2)\n",
        "    plt.xticks([])\n",
        "    plt.yticks([])\n",
        "    plt.imshow(plt.imread(os.path.join(trimaps_dir, map_name)))\n",
        "    plt.subplot(4, 2, 2 + i*2)\n",
        "    plt.xticks([])\n",
        "    plt.yticks([])\n",
        "    plt.imshow(plt.imread(os.path.join(image_dir, image_name)))\n",
        "plt.show()"
      ]
    },
    {
      "cell_type": "code",
      "execution_count": null,
      "metadata": {
        "id": "z7HmSYYL--oA"
      },
      "outputs": [],
      "source": [
        "img = Image.open(os.path.join(trimaps_dir, maps[0]))\n",
        "print(np.unique(img))"
      ]
    },
    {
      "cell_type": "markdown",
      "metadata": {
        "id": "Jtfi0Flo--oC"
      },
      "source": [
        "# SageMaker Setup"
      ]
    },
    {
      "cell_type": "code",
      "execution_count": null,
      "metadata": {
        "id": "OvvFxmeR--oD"
      },
      "outputs": [],
      "source": []
    },
    {
      "cell_type": "code",
      "execution_count": null,
      "metadata": {
        "id": "HTWTkJCL--oE"
      },
      "outputs": [],
      "source": [
        "folders = ['train', 'train_annotation', 'validation', 'validation_annotation']\n",
        "\n",
        "for folder in folders:\n",
        "    if os.path.isdir(folder):\n",
        "        shutil.rmtree(folder)\n",
        "    os.mkdir(folder)"
      ]
    },
    {
      "cell_type": "markdown",
      "metadata": {
        "id": "1nAho8vB--oF"
      },
      "source": [
        "# Preparing Data for SageMaker"
      ]
    },
    {
      "cell_type": "code",
      "execution_count": null,
      "metadata": {
        "id": "Sme8q9TP--oG"
      },
      "outputs": [],
      "source": [
        "def get_map_file(image):\n",
        "    map_file = image.split('.')[0] + '.png'\n",
        "    assert map_file in maps\n",
        "    return map_file\n",
        "    \n",
        "for image in tqdm(images):\n",
        "    target_set = 'train' if random.randint(0, 99) < 75 else 'validation'\n",
        "    \n",
        "    image_file_path = os.path.join('data/images/', image)\n",
        "    image_target_path = os.path.join(target_set, image)\n",
        "    \n",
        "    map_file_path = os.path.join(trimaps_dir, get_map_file(image))\n",
        "    map_target_path = os.path.join(target_set + '_annotation', get_map_file(image))\n",
        "    \n",
        "    shutil.copy(image_file_path, image_target_path)\n",
        "    shutil.copy(map_file_path, map_target_path)"
      ]
    },
    {
      "cell_type": "code",
      "execution_count": null,
      "metadata": {
        "id": "FTQJekgA--oJ"
      },
      "outputs": [],
      "source": [
        "train_images = os.listdir('train')\n",
        "train_annots = os.listdir('train_annotation')"
      ]
    },
    {
      "cell_type": "code",
      "execution_count": null,
      "metadata": {
        "id": "iz0WpL9U--oL"
      },
      "outputs": [],
      "source": [
        "print(len(train_annots), len(train_images))"
      ]
    },
    {
      "cell_type": "markdown",
      "metadata": {
        "id": "OsMWuIIk--oM"
      },
      "source": [
        "# Uploading Data to S3"
      ]
    },
    {
      "cell_type": "code",
      "execution_count": null,
      "metadata": {
        "id": "6EOfxnjX--oM"
      },
      "outputs": [],
      "source": []
    },
    {
      "cell_type": "code",
      "execution_count": null,
      "metadata": {
        "id": "yJKL4ald--oN"
      },
      "outputs": [],
      "source": []
    },
    {
      "cell_type": "markdown",
      "metadata": {
        "id": "wwDXKaKa--oO"
      },
      "source": [
        "# SageMaker Estimator"
      ]
    },
    {
      "cell_type": "code",
      "execution_count": null,
      "metadata": {
        "id": "PVfWf4uS--oO"
      },
      "outputs": [],
      "source": []
    },
    {
      "cell_type": "markdown",
      "metadata": {
        "id": "26IXl1CH--oP"
      },
      "source": [
        "# Hyperparameters"
      ]
    },
    {
      "cell_type": "code",
      "execution_count": null,
      "metadata": {
        "id": "uwmuYger--oQ"
      },
      "outputs": [],
      "source": []
    },
    {
      "cell_type": "markdown",
      "metadata": {
        "id": "syPGgD3_--oR"
      },
      "source": [
        "# Data Channels"
      ]
    },
    {
      "cell_type": "code",
      "execution_count": null,
      "metadata": {
        "id": "cQ8SezNz--oS"
      },
      "outputs": [],
      "source": []
    },
    {
      "cell_type": "code",
      "execution_count": null,
      "metadata": {
        "id": "0vpGHYou--oT"
      },
      "outputs": [],
      "source": []
    },
    {
      "cell_type": "markdown",
      "metadata": {
        "id": "-mjBVqda--oU"
      },
      "source": [
        "# Model Training"
      ]
    },
    {
      "cell_type": "code",
      "execution_count": null,
      "metadata": {
        "id": "Z-beywPN--oV"
      },
      "outputs": [],
      "source": []
    },
    {
      "cell_type": "markdown",
      "metadata": {
        "id": "BPzMm7jX--oV"
      },
      "source": [
        "# Deploy Model"
      ]
    },
    {
      "cell_type": "code",
      "execution_count": null,
      "metadata": {
        "id": "obx5V-MB--oW"
      },
      "outputs": [],
      "source": []
    },
    {
      "cell_type": "markdown",
      "metadata": {
        "id": "VZYlDvbp--oY"
      },
      "source": [
        "# Predictions"
      ]
    },
    {
      "cell_type": "code",
      "execution_count": null,
      "metadata": {
        "id": "T-iamCiA--oa"
      },
      "outputs": [],
      "source": [
        "image_dir = 'validation'\n",
        "images = [x for x in os.listdir(image_dir) if x[-3:] == 'jpg']\n",
        "print(len(images))"
      ]
    },
    {
      "cell_type": "code",
      "execution_count": null,
      "metadata": {
        "id": "E7qKg_Vj--ob"
      },
      "outputs": [],
      "source": []
    },
    {
      "cell_type": "code",
      "execution_count": null,
      "metadata": {
        "id": "ia0KStbd--oc"
      },
      "outputs": [],
      "source": [
        "index = 2\n",
        "\n",
        "image_path = os.path.join(image_dir, images[index])\n",
        "# image_path = 'dog_cat.jfif'\n",
        "\n",
        "with open(image_path, 'rb') as f:\n",
        "    b = bytearray(f.read())\n",
        "\n",
        "results = deployed_model.predict(b)"
      ]
    },
    {
      "cell_type": "code",
      "execution_count": null,
      "metadata": {
        "id": "CUyX2LyH--oc"
      },
      "outputs": [],
      "source": [
        "mask = np.array(Image.open(io.BytesIO(results)))"
      ]
    },
    {
      "cell_type": "code",
      "execution_count": null,
      "metadata": {
        "id": "bNAz8q74--oe"
      },
      "outputs": [],
      "source": [
        "plt.imshow(plt.imread(image_path));"
      ]
    },
    {
      "cell_type": "code",
      "execution_count": null,
      "metadata": {
        "id": "SmDAR6WV--of"
      },
      "outputs": [],
      "source": [
        "plt.imshow(mask);"
      ]
    },
    {
      "cell_type": "markdown",
      "metadata": {
        "id": "jDlWqnXa--of"
      },
      "source": [
        "Don't forget!! You need to delete endpoint or else you will continue to accrue cost!"
      ]
    },
    {
      "cell_type": "code",
      "execution_count": null,
      "metadata": {
        "id": "tAcmQ7_e--og"
      },
      "outputs": [],
      "source": [
        "sagemaker.Session().delete_endpoint(deployed_model.endpoint)"
      ]
    },
    {
      "cell_type": "code",
      "execution_count": null,
      "metadata": {
        "id": "tBKAkrga--oh"
      },
      "outputs": [],
      "source": []
    }
  ],
  "metadata": {
    "kernelspec": {
      "display_name": "Python 3",
      "language": "python",
      "name": "python3"
    },
    "language_info": {
      "codemirror_mode": {
        "name": "ipython",
        "version": 3
      },
      "file_extension": ".py",
      "mimetype": "text/x-python",
      "name": "python",
      "nbconvert_exporter": "python",
      "pygments_lexer": "ipython3",
      "version": "3.6.8"
    },
    "colab": {
      "provenance": []
    }
  },
  "nbformat": 4,
  "nbformat_minor": 0
}